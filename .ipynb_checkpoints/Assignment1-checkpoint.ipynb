{
 "cells": [
  {
   "cell_type": "markdown",
   "metadata": {},
   "source": [
    "# Assignment 1 "
   ]
  },
  {
   "cell_type": "markdown",
   "metadata": {},
   "source": [
    "\n",
    "<font size=\"2.7\">\n",
    "Name: Benjamin Fever <br>\n",
    "Student Number: 300515215 <br>\n",
    "Due Date: 07-08-2023\n",
    "</font>"
   ]
  },
  {
   "cell_type": "markdown",
   "metadata": {},
   "source": [
    "## 1.0 Classification [70 points]"
   ]
  },
  {
   "cell_type": "markdown",
   "metadata": {},
   "source": [
    "#### Imports"
   ]
  },
  {
   "cell_type": "code",
   "execution_count": 4,
   "metadata": {},
   "outputs": [],
   "source": [
    "import numpy as np\n",
    "import pandas as pd\n",
    "import matplotlib.pyplot as plt\n",
    "\n",
    "from sklearn.model_selection import train_test_split\n",
    "from sklearn.metrics import accuracy_score\n",
    "from sklearn.preprocessing import LabelEncoder\n",
    "\n",
    "from sklearn.neighbors import KNeighborsClassifier\n",
    "from sklearn.naive_bayes import GaussianNB\n",
    "from sklearn.tree import DecisionTreeClassifier\n",
    "from sklearn.linear_model import LogisticRegression\n",
    "from sklearn.ensemble import GradientBoostingClassifier\n",
    "from sklearn.ensemble import RandomForestClassifier\n",
    "from sklearn.neural_network import MLPClassifier\n",
    "\n",
    "from scipy.io import arff"
   ]
  },
  {
   "cell_type": "markdown",
   "metadata": {},
   "source": [
    "#### Load Data"
   ]
  },
  {
   "cell_type": "code",
   "execution_count": 5,
   "metadata": {},
   "outputs": [],
   "source": [
    "# Load steel plate data\n",
    "steel_plate_data, meta = arff.loadarff(\"data/steelPlatesData.arff\")\n",
    "steel_plate_data = pd.DataFrame(steel_plate_data)\n",
    "\n",
    "# Load bank note data\n",
    "bank_note_data, meta = arff.loadarff(\"data/bankNoteData.arff\")\n",
    "bank_note_data = pd.DataFrame(bank_note_data)\n",
    "\n",
    "# Load ionsphere data\n",
    "ionsphere_data, meta = arff.loadarff(\"data/ionosphereData.arff\")\n",
    "ionsphere_data = pd.DataFrame(ionsphere_data)\n",
    "ionsphere_data = ionsphere_data.rename(columns={\"class\" : \"Class\"})\n",
    "\n",
    "all_data = [steel_plate_data, ionsphere_data, bank_note_data]"
   ]
  },
  {
   "cell_type": "markdown",
   "metadata": {},
   "source": [
    "### K Nearest Neighbor (KNN) Classification"
   ]
  },
  {
   "cell_type": "code",
   "execution_count": null,
   "metadata": {},
   "outputs": [],
   "source": [
    "accuracy = [[[],[],[],[],[]],[[],[],[],[],[]],[[],[],[],[],[]]]\n",
    "for j in range(0, 3):\n",
    "    for param in range(1, 6):\n",
    "        for i in range(0, 50):\n",
    "            # ta_x is the training features\n",
    "            # ta_y is the training label\n",
    "            # te_x is the test features\n",
    "            # te_y is the test label\n",
    "            ta_x, te_x, ta_y, te_y = train_test_split(all_data[j].drop(columns=\"Class\", axis=1), all_data[j][\"Class\"], test_size=0.5, random_state=i)\n",
    "\n",
    "            ta_y = LabelEncoder().fit_transform(ta_y)\n",
    "            te_y = LabelEncoder().fit_transform(te_y)\n",
    "\n",
    "            knn_classifier = KNeighborsClassifier(n_neighbors=param)\n",
    "            knn_classifier.fit(np.array(ta_x), np.array(ta_y))\n",
    "\n",
    "            pred_y = knn_classifier.predict(np.array(te_x))\n",
    "            accuracy[j][param-1].append(accuracy_score(te_y, pred_y))\n",
    "\n",
    "fig, ax = plt.subplots(1, 3, figsize=(20, 10))\n",
    "# Plot the first box plot in the first subplot\n",
    "ax[0].boxplot(accuracy[0])\n",
    "ax[0].set_title(\"Steel Plates Faults\")\n",
    "\n",
    "# Plot the second box plot in the second subplot\n",
    "ax[1].boxplot(accuracy[1])\n",
    "ax[1].set_title(\"Ionosphere\")\n",
    "\n",
    "# Plot the third box plot in the third subplot\n",
    "ax[2].boxplot(accuracy[2])\n",
    "ax[2].set_title(\"Banknotes\")\n",
    "\n",
    "# Adjust layout and display the plots\n",
    "plt.tight_layout()\n",
    "plt.show()"
   ]
  },
  {
   "cell_type": "markdown",
   "metadata": {},
   "source": [
    "## External Resourses\n",
    "\n",
    "[^1]: The resourse used to split the data https://www.geeksforgeeks.org/how-to-do-train-test-split-using-sklearn-in-python/"
   ]
  }
 ],
 "metadata": {
  "kernelspec": {
   "display_name": "Python 3 (ipykernel)",
   "language": "python",
   "name": "python3"
  },
  "language_info": {
   "codemirror_mode": {
    "name": "ipython",
    "version": 3
   },
   "file_extension": ".py",
   "mimetype": "text/x-python",
   "name": "python",
   "nbconvert_exporter": "python",
   "pygments_lexer": "ipython3",
   "version": "3.11.4"
  }
 },
 "nbformat": 4,
 "nbformat_minor": 4
}
